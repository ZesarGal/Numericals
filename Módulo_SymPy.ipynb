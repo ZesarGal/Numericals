{
  "cells": [
    {
      "cell_type": "markdown",
      "metadata": {
        "id": "vYlIAB3Celom"
      },
      "source": [
        "# SymPy y matemáticas"
      ]
    },
    {
      "cell_type": "markdown",
      "metadata": {
        "id": "hVv5abkFelot"
      },
      "source": [
        "SymPy es un módulo en Python que nos va a servir para hacer matemáticas de manera simbólica."
      ]
    },
    {
      "cell_type": "code",
      "execution_count": 1,
      "metadata": {
        "id": "orAUmhLzelou"
      },
      "outputs": [],
      "source": [
        "import sympy as sym\n",
        "from sympy import*"
      ]
    },
    {
      "cell_type": "code",
      "execution_count": 2,
      "metadata": {
        "id": "IoT8LfDhelox",
        "outputId": "396571de-4d90-4fd2-dc98-b81c2f703233",
        "colab": {
          "base_uri": "https://localhost:8080/"
        }
      },
      "outputs": [
        {
          "output_type": "execute_result",
          "data": {
            "text/plain": [
              "4.242640687119285"
            ]
          },
          "metadata": {},
          "execution_count": 2
        }
      ],
      "source": [
        "18**(1/2)"
      ]
    },
    {
      "cell_type": "code",
      "execution_count": 3,
      "metadata": {
        "id": "epKeqDFleloz",
        "outputId": "f0b7dac6-c2ce-4ba3-8ba6-8de56cebe0f6",
        "colab": {
          "base_uri": "https://localhost:8080/",
          "height": 59
        }
      },
      "outputs": [
        {
          "output_type": "execute_result",
          "data": {
            "text/plain": [
              "3*sqrt(2)"
            ],
            "text/latex": "$\\displaystyle 3 \\sqrt{2}$"
          },
          "metadata": {},
          "execution_count": 3
        }
      ],
      "source": [
        "sqrt(18)"
      ]
    },
    {
      "cell_type": "code",
      "execution_count": 4,
      "metadata": {
        "id": "qkscdStaelo0",
        "outputId": "2f02ad40-9890-451c-ebba-f20034dd3bc6",
        "colab": {
          "base_uri": "https://localhost:8080/"
        }
      },
      "outputs": [
        {
          "output_type": "execute_result",
          "data": {
            "text/plain": [
              "1.6666666666666667"
            ]
          },
          "metadata": {},
          "execution_count": 4
        }
      ],
      "source": [
        "25/15"
      ]
    },
    {
      "cell_type": "code",
      "execution_count": 5,
      "metadata": {
        "id": "B2m297l3elo1",
        "outputId": "e4c3c1d3-9ec4-4415-b5d1-554036168f68",
        "colab": {
          "base_uri": "https://localhost:8080/",
          "height": 72
        }
      },
      "outputs": [
        {
          "output_type": "execute_result",
          "data": {
            "text/plain": [
              "5/3"
            ],
            "text/latex": "$\\displaystyle \\frac{5}{3}$"
          },
          "metadata": {},
          "execution_count": 5
        }
      ],
      "source": [
        "frac = Rational(25, 15)\n",
        "frac"
      ]
    },
    {
      "cell_type": "markdown",
      "metadata": {
        "id": "kuHe4VQielo2"
      },
      "source": [
        "# Creación de símbolos: Método `symbols()`"
      ]
    },
    {
      "cell_type": "code",
      "execution_count": 6,
      "metadata": {
        "colab": {
          "base_uri": "https://localhost:8080/",
          "height": 59
        },
        "id": "B9bVRh3Jelo3",
        "outputId": "97cd26a1-c0f0-4136-9c1a-c903fc2004f1"
      },
      "outputs": [
        {
          "output_type": "execute_result",
          "data": {
            "text/plain": [
              "5*x + y"
            ],
            "text/latex": "$\\displaystyle 5 x + y$"
          },
          "metadata": {},
          "execution_count": 6
        }
      ],
      "source": [
        "x, y = symbols(\"x y\")\n",
        "f = 5*x + y\n",
        "f"
      ]
    },
    {
      "cell_type": "code",
      "execution_count": 7,
      "metadata": {
        "id": "Bq4bUGY6elo4",
        "outputId": "ab8d0536-6c7c-492e-a89f-9318a672f386",
        "colab": {
          "base_uri": "https://localhost:8080/",
          "height": 59
        }
      },
      "outputs": [
        {
          "output_type": "execute_result",
          "data": {
            "text/plain": [
              "5*x + y + 5"
            ],
            "text/latex": "$\\displaystyle 5 x + y + 5$"
          },
          "metadata": {},
          "execution_count": 7
        }
      ],
      "source": [
        "f + 5"
      ]
    },
    {
      "cell_type": "code",
      "execution_count": 8,
      "metadata": {
        "colab": {
          "base_uri": "https://localhost:8080/",
          "height": 166
        },
        "id": "AH8ndZqYelo5",
        "outputId": "f9b8c5f1-2362-491b-80a3-686b0782edb1"
      },
      "outputs": [
        {
          "output_type": "display_data",
          "data": {
            "text/plain": [
              "x + 5"
            ],
            "text/latex": "$\\displaystyle x + 5$"
          },
          "metadata": {}
        },
        {
          "output_type": "display_data",
          "data": {
            "text/plain": [
              "x**2 + x - 5"
            ],
            "text/latex": "$\\displaystyle x^{2} + x - 5$"
          },
          "metadata": {}
        },
        {
          "output_type": "display_data",
          "data": {
            "text/plain": [
              "-x**3 + x + 1"
            ],
            "text/latex": "$\\displaystyle - x^{3} + x + 1$"
          },
          "metadata": {}
        },
        {
          "output_type": "display_data",
          "data": {
            "text/plain": [
              "sqrt(x - 2)"
            ],
            "text/latex": "$\\displaystyle \\sqrt{x - 2}$"
          },
          "metadata": {}
        },
        {
          "output_type": "display_data",
          "data": {
            "text/plain": [
              "log(x)"
            ],
            "text/latex": "$\\displaystyle \\log{\\left(x \\right)}$"
          },
          "metadata": {}
        },
        {
          "output_type": "display_data",
          "data": {
            "text/plain": [
              "sqrt(10)"
            ],
            "text/latex": "$\\displaystyle \\sqrt{10}$"
          },
          "metadata": {}
        }
      ],
      "source": [
        "display(x +5, x+x**2-5, x +1-x**3, sqrt(x-2), log(x), sqrt(10))"
      ]
    },
    {
      "cell_type": "code",
      "execution_count": 9,
      "metadata": {
        "id": "t-Bx6-DKelo6",
        "outputId": "5a0f0acf-f686-447b-8d1a-7570ba35eea6",
        "colab": {
          "base_uri": "https://localhost:8080/",
          "height": 59
        }
      },
      "outputs": [
        {
          "output_type": "execute_result",
          "data": {
            "text/plain": [
              "-alpha**2 - 2*beta + theta**3 + pi**2"
            ],
            "text/latex": "$\\displaystyle - \\alpha^{2} - 2 \\beta + \\theta^{3} + \\pi^{2}$"
          },
          "metadata": {},
          "execution_count": 9
        }
      ],
      "source": [
        "theta, alpha, beta, omega = symbols(\"theta, alpha, beta, omega\")\n",
        "theta**3-2*beta+pi**2-alpha**2"
      ]
    },
    {
      "cell_type": "code",
      "execution_count": 10,
      "metadata": {
        "colab": {
          "base_uri": "https://localhost:8080/"
        },
        "id": "-jAbCMIfelo7",
        "outputId": "d346d70d-db63-420a-dc93-7e9dcba5d55c"
      },
      "outputs": [
        {
          "output_type": "stream",
          "name": "stdout",
          "text": [
            "valor de p es :pi**3\n",
            "valor de q es :3.14159265358979\n",
            "valor de r es :2.71828182845905\n",
            "valor de s es :5.85987448204884\n",
            "valor de rslt es :oo\n",
            "True\n"
          ]
        }
      ],
      "source": [
        "p = pi**3\n",
        "print(\"valor de p es :\" + str(p))\n",
        " \n",
        "\n",
        "q = pi.evalf()\n",
        "print(\"valor de q es :\" + str(q))\n",
        " \n",
        "\n",
        "r = exp(1).evalf()\n",
        "print(\"valor de r es :\" + str(r))\n",
        " \n",
        "s = (pi + exp(1)).evalf()\n",
        "print(\"valor de s es :\" + str(s))\n",
        " \n",
        "rslt = oo + 10000\n",
        "print(\"valor de rslt es :\" + str(rslt))\n",
        " \n",
        "if oo > 9999999 :\n",
        "    print(\"True\")\n",
        "else:\n",
        "    print(\"False\")"
      ]
    },
    {
      "cell_type": "markdown",
      "metadata": {
        "id": "Zd2iXjpvelo9"
      },
      "source": [
        "# Cálculo formal"
      ]
    },
    {
      "cell_type": "code",
      "execution_count": 11,
      "metadata": {
        "colab": {
          "base_uri": "https://localhost:8080/",
          "height": 101
        },
        "id": "4ilwHn1_elo-",
        "outputId": "502ca27c-9f9d-497e-a7de-d4914896cfb8"
      },
      "outputs": [
        {
          "output_type": "execute_result",
          "data": {
            "text/plain": [
              "Integral(x**2 - 5, (x, a, b))"
            ],
            "text/latex": "$\\displaystyle \\int\\limits_{a}^{b} \\left(x^{2} - 5\\right)\\, dx$"
          },
          "metadata": {},
          "execution_count": 11
        }
      ],
      "source": [
        "a,b = symbols(\"a b\")\n",
        "Integral(x**2-5, (x,a,b))"
      ]
    },
    {
      "cell_type": "code",
      "execution_count": 12,
      "metadata": {
        "colab": {
          "base_uri": "https://localhost:8080/",
          "height": 74
        },
        "id": "Obmeatq_elpA",
        "outputId": "9936c7da-ebd4-40f8-ffaa-ce5c9895dfa8"
      },
      "outputs": [
        {
          "output_type": "execute_result",
          "data": {
            "text/plain": [
              "Derivative(x**2 - 5, (x, 4))"
            ],
            "text/latex": "$\\displaystyle \\frac{d^{4}}{d x^{4}} \\left(x^{2} - 5\\right)$"
          },
          "metadata": {},
          "execution_count": 12
        }
      ],
      "source": [
        "Derivative(x**2-5,x,4)"
      ]
    },
    {
      "cell_type": "code",
      "execution_count": 13,
      "metadata": {
        "colab": {
          "base_uri": "https://localhost:8080/",
          "height": 72
        },
        "id": "2XaIGLK6elpB",
        "outputId": "0daeec8e-2b20-4775-d494-6925162bd411"
      },
      "outputs": [
        {
          "output_type": "execute_result",
          "data": {
            "text/plain": [
              "Limit(1/x, x, oo, dir='-')"
            ],
            "text/latex": "$\\displaystyle \\lim_{x \\to \\infty} \\frac{1}{x}$"
          },
          "metadata": {},
          "execution_count": 13
        }
      ],
      "source": [
        "Limit(1/x,x,oo)"
      ]
    },
    {
      "cell_type": "code",
      "execution_count": 14,
      "metadata": {
        "id": "onyCkDkjelpC",
        "outputId": "170b9c0e-bef5-40c6-d587-e02b411949a1",
        "colab": {
          "base_uri": "https://localhost:8080/",
          "height": 57
        }
      },
      "outputs": [
        {
          "output_type": "execute_result",
          "data": {
            "text/plain": [
              "0"
            ],
            "text/latex": "$\\displaystyle 0$"
          },
          "metadata": {},
          "execution_count": 14
        }
      ],
      "source": [
        "limit(1/x,x,oo)"
      ]
    },
    {
      "cell_type": "code",
      "execution_count": 15,
      "metadata": {
        "id": "UKI3VI5oelpD",
        "outputId": "da45bf87-907c-41ab-968a-d78a0d0d8a70",
        "colab": {
          "base_uri": "https://localhost:8080/",
          "height": 90
        }
      },
      "outputs": [
        {
          "output_type": "execute_result",
          "data": {
            "text/plain": [
              "Sum(x**2/(x - 1), (x, 1, 5))"
            ],
            "text/latex": "$\\displaystyle \\sum_{x=1}^{5} \\frac{x^{2}}{x - 1}$"
          },
          "metadata": {},
          "execution_count": 15
        }
      ],
      "source": [
        "Sum((x**2)/(x-1), (x,1,5))"
      ]
    },
    {
      "cell_type": "code",
      "execution_count": 16,
      "metadata": {
        "id": "5slY_IYXelpE",
        "outputId": "2639b076-d55e-43dd-fd5e-6d9736439d90",
        "colab": {
          "base_uri": "https://localhost:8080/",
          "height": 90
        }
      },
      "outputs": [
        {
          "output_type": "execute_result",
          "data": {
            "text/plain": [
              "Product(x**2/(x - 1), (x, 1, 5))"
            ],
            "text/latex": "$\\displaystyle \\prod_{x=1}^{5} \\frac{x^{2}}{x - 1}$"
          },
          "metadata": {},
          "execution_count": 16
        }
      ],
      "source": [
        "Product((x**2)/(x-1), (x,1,5))"
      ]
    },
    {
      "cell_type": "markdown",
      "metadata": {
        "id": "AhKOOpgAelpF"
      },
      "source": [
        "## Métodos `Eq()` y `doit()` "
      ]
    },
    {
      "cell_type": "code",
      "execution_count": 17,
      "metadata": {
        "colab": {
          "base_uri": "https://localhost:8080/",
          "height": 90
        },
        "id": "NPUIQUY_elpG",
        "outputId": "9b04b64e-b897-4c7a-cd18-a93f04982fe3"
      },
      "outputs": [
        {
          "output_type": "execute_result",
          "data": {
            "text/plain": [
              "Eq(Sum(x, (x, 1, 10)), 55)"
            ],
            "text/latex": "$\\displaystyle \\sum_{x=1}^{10} x = 55$"
          },
          "metadata": {},
          "execution_count": 17
        }
      ],
      "source": [
        "Eq(Sum(x, (x,1,10)), Sum(x, (x,1,10)).doit())"
      ]
    },
    {
      "cell_type": "code",
      "execution_count": 18,
      "metadata": {
        "colab": {
          "base_uri": "https://localhost:8080/",
          "height": 57
        },
        "id": "qDhauXuxelpH",
        "outputId": "8ffaaf76-e618-4457-dd5d-c76f27c09b4b"
      },
      "outputs": [
        {
          "output_type": "execute_result",
          "data": {
            "text/plain": [
              "55.0000000000000"
            ],
            "text/latex": "$\\displaystyle 55.0$"
          },
          "metadata": {},
          "execution_count": 18
        }
      ],
      "source": [
        "Sum(x, (x,1,10)).evalf()"
      ]
    },
    {
      "cell_type": "code",
      "execution_count": 19,
      "metadata": {
        "id": "IS42TbOIelpI",
        "outputId": "aa11942f-e151-4ace-b307-0016cd052287",
        "colab": {
          "base_uri": "https://localhost:8080/",
          "height": 160
        }
      },
      "outputs": [
        {
          "output_type": "display_data",
          "data": {
            "text/plain": [
              "factorial(n)"
            ],
            "text/latex": "$\\displaystyle n!$"
          },
          "metadata": {}
        },
        {
          "output_type": "display_data",
          "data": {
            "text/plain": [
              "120"
            ],
            "text/latex": "$\\displaystyle 120$"
          },
          "metadata": {}
        },
        {
          "output_type": "display_data",
          "data": {
            "text/plain": [
              "binomial(n, k)"
            ],
            "text/latex": "$\\displaystyle {\\binom{n}{k}}$"
          },
          "metadata": {}
        },
        {
          "output_type": "execute_result",
          "data": {
            "text/plain": [
              "Eq(binomial(5, 2), 10)"
            ],
            "text/latex": "$\\displaystyle {\\binom{5}{2}} = 10$"
          },
          "metadata": {},
          "execution_count": 19
        }
      ],
      "source": [
        "n,k = symbols(\"n,k\", integers=True)\n",
        "display(factorial(n))\n",
        "display(factorial(5))\n",
        "display(binomial(n,k))\n",
        "Eq(binomial(5,2, evaluate=False), binomial(5,2))"
      ]
    },
    {
      "cell_type": "markdown",
      "metadata": {
        "id": "ciki4bA8elpJ"
      },
      "source": [
        "## Los métodos `simplify()`, `expand()`, `factor()`, `together()`"
      ]
    },
    {
      "cell_type": "code",
      "execution_count": 20,
      "metadata": {
        "id": "d8LrFIiBelpJ",
        "outputId": "a89de6a0-947e-4794-93b3-9eb92db9c828",
        "colab": {
          "base_uri": "https://localhost:8080/",
          "height": 72
        }
      },
      "outputs": [
        {
          "output_type": "execute_result",
          "data": {
            "text/plain": [
              "1/(x + 1)"
            ],
            "text/latex": "$\\displaystyle \\frac{1}{x + 1}$"
          },
          "metadata": {},
          "execution_count": 20
        }
      ],
      "source": [
        "f = (x**2+2*x+1)/(x**3+3*x**2+3*x+1)\n",
        "simplify(f)"
      ]
    },
    {
      "cell_type": "code",
      "execution_count": 21,
      "metadata": {
        "id": "F9ICfepgelpK",
        "outputId": "288fb390-90e9-4fff-8339-d428a0d24251",
        "colab": {
          "base_uri": "https://localhost:8080/",
          "height": 59
        }
      },
      "outputs": [
        {
          "output_type": "execute_result",
          "data": {
            "text/plain": [
              "x*(x - 1)"
            ],
            "text/latex": "$\\displaystyle x \\left(x - 1\\right)$"
          },
          "metadata": {},
          "execution_count": 21
        }
      ],
      "source": [
        "f = x**2-x\n",
        "factor(f)"
      ]
    },
    {
      "cell_type": "code",
      "execution_count": 22,
      "metadata": {
        "id": "SQsliDyvelpL",
        "outputId": "10b050ef-1271-48cd-e650-272d8f4bb169",
        "colab": {
          "base_uri": "https://localhost:8080/",
          "height": 59
        }
      },
      "outputs": [
        {
          "output_type": "execute_result",
          "data": {
            "text/plain": [
              "x**2 - x - 6"
            ],
            "text/latex": "$\\displaystyle x^{2} - x - 6$"
          },
          "metadata": {},
          "execution_count": 22
        }
      ],
      "source": [
        "f = (x-3)*(x+2)\n",
        "expand(f)"
      ]
    },
    {
      "cell_type": "code",
      "execution_count": 23,
      "metadata": {
        "id": "M4nCIZmgelpM",
        "outputId": "6dcce10b-53de-4b82-8e9b-c848114a1edc",
        "colab": {
          "base_uri": "https://localhost:8080/",
          "height": 59
        }
      },
      "outputs": [
        {
          "output_type": "execute_result",
          "data": {
            "text/plain": [
              "x**4 + 4*x**3 + 6*x**2 + 4*x + 1"
            ],
            "text/latex": "$\\displaystyle x^{4} + 4 x^{3} + 6 x^{2} + 4 x + 1$"
          },
          "metadata": {},
          "execution_count": 23
        }
      ],
      "source": [
        "f = (x+1)**4\n",
        "expand(f)"
      ]
    },
    {
      "cell_type": "code",
      "execution_count": 24,
      "metadata": {
        "id": "q4HezHaBelpN",
        "outputId": "94f13a5c-e69b-4a3f-9e59-5cf5665e8911",
        "colab": {
          "base_uri": "https://localhost:8080/",
          "height": 76
        }
      },
      "outputs": [
        {
          "output_type": "execute_result",
          "data": {
            "text/plain": [
              "1/(x*(x - 1))"
            ],
            "text/latex": "$\\displaystyle \\frac{1}{x \\left(x - 1\\right)}$"
          },
          "metadata": {},
          "execution_count": 24
        }
      ],
      "source": [
        "f = 1/(x**2-x)\n",
        "together(f)"
      ]
    },
    {
      "cell_type": "code",
      "execution_count": 25,
      "metadata": {
        "id": "x2hdyx6gelpN",
        "outputId": "95d97930-19b0-479b-ddd3-6228d419611f",
        "colab": {
          "base_uri": "https://localhost:8080/",
          "height": 73
        }
      },
      "outputs": [
        {
          "output_type": "execute_result",
          "data": {
            "text/plain": [
              "1/(x - 1) - 1/x"
            ],
            "text/latex": "$\\displaystyle \\frac{1}{x - 1} - \\frac{1}{x}$"
          },
          "metadata": {},
          "execution_count": 25
        }
      ],
      "source": [
        "apart(f)"
      ]
    },
    {
      "cell_type": "markdown",
      "metadata": {
        "id": "rOfvzHhOelpO"
      },
      "source": [
        "# Resolución de ecuaciones"
      ]
    },
    {
      "cell_type": "code",
      "execution_count": 26,
      "metadata": {
        "id": "sRuCro98elpQ",
        "outputId": "7245871e-e8c0-4528-e5d1-1b567a29adfe",
        "colab": {
          "base_uri": "https://localhost:8080/",
          "height": 110
        }
      },
      "outputs": [
        {
          "output_type": "display_data",
          "data": {
            "text/plain": [
              "Eq(x**2 - 3*x + 1, 0)"
            ],
            "text/latex": "$\\displaystyle x^{2} - 3 x + 1 = 0$"
          },
          "metadata": {}
        },
        {
          "output_type": "execute_result",
          "data": {
            "text/plain": [
              "FiniteSet(3/2 - sqrt(5)/2, sqrt(5)/2 + 3/2)"
            ],
            "text/latex": "$\\displaystyle \\left\\{\\frac{3}{2} - \\frac{\\sqrt{5}}{2}, \\frac{\\sqrt{5}}{2} + \\frac{3}{2}\\right\\}$"
          },
          "metadata": {},
          "execution_count": 26
        }
      ],
      "source": [
        "display(Eq(x**2-3*x+1,0))\n",
        "solveset(x**2-3*x+1)"
      ]
    },
    {
      "cell_type": "code",
      "execution_count": 27,
      "metadata": {
        "id": "jC2AWwUdelpS",
        "outputId": "9ce76040-030e-462b-d011-383f6f7e061b",
        "colab": {
          "base_uri": "https://localhost:8080/",
          "height": 110
        }
      },
      "outputs": [
        {
          "output_type": "display_data",
          "data": {
            "text/plain": [
              "Eq(sin(x) - cos(x)**2, 0)"
            ],
            "text/latex": "$\\displaystyle \\sin{\\left(x \\right)} - \\cos^{2}{\\left(x \\right)} = 0$"
          },
          "metadata": {}
        },
        {
          "output_type": "execute_result",
          "data": {
            "text/plain": [
              "Union(ImageSet(Lambda(_n, 2*_n*pi - atan(sqrt(2)*sqrt(-1 + sqrt(5))/2) + pi), Integers), ImageSet(Lambda(_n, 2*_n*pi + atan(sqrt(2)*sqrt(-1 + sqrt(5))/2)), Integers))"
            ],
            "text/latex": "$\\displaystyle \\left\\{2 n \\pi + \\operatorname{atan}{\\left(\\frac{\\sqrt{2} \\sqrt{-1 + \\sqrt{5}}}{2} \\right)}\\; |\\; n \\in \\mathbb{Z}\\right\\} \\cup \\left\\{2 n \\pi - \\operatorname{atan}{\\left(\\frac{\\sqrt{2} \\sqrt{-1 + \\sqrt{5}}}{2} \\right)} + \\pi\\; |\\; n \\in \\mathbb{Z}\\right\\}$"
          },
          "metadata": {},
          "execution_count": 27
        }
      ],
      "source": [
        "display(Eq(sin(x)-cos(x)**2, 0))\n",
        "solveset(sin(x)-cos(x)**2, domain=S.Reals)"
      ]
    },
    {
      "cell_type": "code",
      "execution_count": 28,
      "metadata": {
        "id": "bOouDOA7elpV",
        "outputId": "2944ff58-1a5d-4645-c6fd-4f129304b103",
        "colab": {
          "base_uri": "https://localhost:8080/"
        }
      },
      "outputs": [
        {
          "output_type": "execute_result",
          "data": {
            "text/plain": [
              "(-3, 1)"
            ]
          },
          "metadata": {},
          "execution_count": 28
        }
      ],
      "source": [
        "solution = sym.solve((x + 5 * y - 2, -3 * x + 6 * y - 15), (x, y))\n",
        "solution[x], solution[y]"
      ]
    },
    {
      "cell_type": "code",
      "execution_count": 29,
      "metadata": {
        "id": "8IQJ91fqelpY",
        "outputId": "8bdc1628-7337-4cd2-aad6-13a2ad6451ed",
        "colab": {
          "base_uri": "https://localhost:8080/"
        }
      },
      "outputs": [
        {
          "output_type": "execute_result",
          "data": {
            "text/plain": [
              "{x: True, y: True}"
            ]
          },
          "metadata": {},
          "execution_count": 29
        }
      ],
      "source": [
        "# Resolución de ecuaciones booleanas\n",
        "sym.satisfiable(x & y)"
      ]
    },
    {
      "cell_type": "code",
      "execution_count": 30,
      "metadata": {
        "id": "PKAMJtTUelpZ",
        "outputId": "dd3363b7-475a-46b2-cbc5-1153e42ef2e4",
        "colab": {
          "base_uri": "https://localhost:8080/"
        }
      },
      "outputs": [
        {
          "output_type": "execute_result",
          "data": {
            "text/plain": [
              "False"
            ]
          },
          "metadata": {},
          "execution_count": 30
        }
      ],
      "source": [
        "sym.satisfiable(x & ~x)"
      ]
    },
    {
      "cell_type": "markdown",
      "metadata": {
        "id": "yysRM9XQelpa"
      },
      "source": [
        "# Álgebra Lineal"
      ]
    },
    {
      "cell_type": "code",
      "execution_count": 31,
      "metadata": {
        "id": "ssopoAzyelpb",
        "outputId": "4dcd8e13-1ce3-4048-9137-4b193b39ecf8",
        "colab": {
          "base_uri": "https://localhost:8080/",
          "height": 120
        }
      },
      "outputs": [
        {
          "output_type": "execute_result",
          "data": {
            "text/plain": [
              "Matrix([\n",
              "[1, 0, 0, 0],\n",
              "[0, 1, 0, 0],\n",
              "[0, 0, 1, 0],\n",
              "[0, 0, 0, 1]])"
            ],
            "text/latex": "$\\displaystyle \\left[\\begin{matrix}1 & 0 & 0 & 0\\\\0 & 1 & 0 & 0\\\\0 & 0 & 1 & 0\\\\0 & 0 & 0 & 1\\end{matrix}\\right]$"
          },
          "metadata": {},
          "execution_count": 31
        }
      ],
      "source": [
        "eye(4)"
      ]
    },
    {
      "cell_type": "code",
      "execution_count": 32,
      "metadata": {
        "id": "MxTj7206elpb",
        "outputId": "ee6f5c3e-1510-4672-ddd7-d8b676ef95ba",
        "colab": {
          "base_uri": "https://localhost:8080/",
          "height": 99
        }
      },
      "outputs": [
        {
          "output_type": "execute_result",
          "data": {
            "text/plain": [
              "Matrix([\n",
              "[0, 0, 0, 0],\n",
              "[0, 0, 0, 0],\n",
              "[0, 0, 0, 0]])"
            ],
            "text/latex": "$\\displaystyle \\left[\\begin{matrix}0 & 0 & 0 & 0\\\\0 & 0 & 0 & 0\\\\0 & 0 & 0 & 0\\end{matrix}\\right]$"
          },
          "metadata": {},
          "execution_count": 32
        }
      ],
      "source": [
        "zeros(3,4)"
      ]
    },
    {
      "cell_type": "code",
      "execution_count": 33,
      "metadata": {
        "id": "AcjgKLVVelpd",
        "outputId": "19115462-55b4-4f76-d71e-a21b071bdf67",
        "colab": {
          "base_uri": "https://localhost:8080/",
          "height": 78
        }
      },
      "outputs": [
        {
          "output_type": "execute_result",
          "data": {
            "text/plain": [
              "Matrix([\n",
              "[1, 1, 1],\n",
              "[1, 1, 1]])"
            ],
            "text/latex": "$\\displaystyle \\left[\\begin{matrix}1 & 1 & 1\\\\1 & 1 & 1\\end{matrix}\\right]$"
          },
          "metadata": {},
          "execution_count": 33
        }
      ],
      "source": [
        "ones(2,3)"
      ]
    },
    {
      "cell_type": "code",
      "execution_count": 34,
      "metadata": {
        "id": "V4ZiKGiCelpe",
        "outputId": "12c2b601-8b7f-4502-df0e-82cbadeba08e",
        "colab": {
          "base_uri": "https://localhost:8080/",
          "height": 78
        }
      },
      "outputs": [
        {
          "output_type": "display_data",
          "data": {
            "text/plain": [
              "Matrix([\n",
              "[1, 2],\n",
              "[3, 4]])"
            ],
            "text/latex": "$\\displaystyle \\left[\\begin{matrix}1 & 2\\\\3 & 4\\end{matrix}\\right]$"
          },
          "metadata": {}
        }
      ],
      "source": [
        "display(Matrix([[1,2], [3,4]]))"
      ]
    },
    {
      "cell_type": "code",
      "execution_count": 35,
      "metadata": {
        "id": "GDU2cAixelpf",
        "outputId": "189c2805-318f-4f45-fd57-390bd1a545f4",
        "colab": {
          "base_uri": "https://localhost:8080/",
          "height": 57
        }
      },
      "outputs": [
        {
          "output_type": "execute_result",
          "data": {
            "text/plain": [
              "-2"
            ],
            "text/latex": "$\\displaystyle -2$"
          },
          "metadata": {},
          "execution_count": 35
        }
      ],
      "source": [
        "det(Matrix([[1,2], [3,4]]))"
      ]
    },
    {
      "cell_type": "code",
      "execution_count": 36,
      "metadata": {
        "id": "vM2shAi4elpj",
        "outputId": "13b96a4c-352d-497a-e4ef-7fe5d16b446e",
        "colab": {
          "base_uri": "https://localhost:8080/",
          "height": 78
        }
      },
      "outputs": [
        {
          "output_type": "execute_result",
          "data": {
            "text/plain": [
              "Matrix([\n",
              "[ -2,    1],\n",
              "[3/2, -1/2]])"
            ],
            "text/latex": "$\\displaystyle \\left[\\begin{matrix}-2 & 1\\\\\\frac{3}{2} & - \\frac{1}{2}\\end{matrix}\\right]$"
          },
          "metadata": {},
          "execution_count": 36
        }
      ],
      "source": [
        "Matrix([[1,2], [3,4]]).inv()"
      ]
    },
    {
      "cell_type": "code",
      "execution_count": 37,
      "metadata": {
        "id": "uueQb3IKelpl",
        "outputId": "985265d4-f58b-41bd-cb4b-5026cda2454e",
        "colab": {
          "base_uri": "https://localhost:8080/",
          "height": 78
        }
      },
      "outputs": [
        {
          "output_type": "execute_result",
          "data": {
            "text/plain": [
              "Matrix([\n",
              "[1, 3],\n",
              "[2, 4]])"
            ],
            "text/latex": "$\\displaystyle \\left[\\begin{matrix}1 & 3\\\\2 & 4\\end{matrix}\\right]$"
          },
          "metadata": {},
          "execution_count": 37
        }
      ],
      "source": [
        "Matrix([[1,2], [3,4]]).transpose()"
      ]
    },
    {
      "cell_type": "code",
      "execution_count": 38,
      "metadata": {
        "id": "i0vxG9_7elpm",
        "outputId": "3068cbeb-c0bc-4f9a-aac2-8f48fbd64372",
        "colab": {
          "base_uri": "https://localhost:8080/",
          "height": 163
        }
      },
      "outputs": [
        {
          "output_type": "display_data",
          "data": {
            "text/plain": [
              "Eq(Matrix([\n",
              "[0, 4],\n",
              "[5, 3]]) + Matrix([\n",
              "[1, 2],\n",
              "[3, 4]]), Matrix([\n",
              "[1, 6],\n",
              "[8, 7]]))"
            ],
            "text/latex": "$\\displaystyle \\left[\\begin{matrix}0 & 4\\\\5 & 3\\end{matrix}\\right] + \\left[\\begin{matrix}1 & 2\\\\3 & 4\\end{matrix}\\right] = \\left[\\begin{matrix}1 & 6\\\\8 & 7\\end{matrix}\\right]$"
          },
          "metadata": {}
        },
        {
          "output_type": "display_data",
          "data": {
            "text/plain": [
              "Eq(Matrix([\n",
              "[1, 2],\n",
              "[3, 4]])*Matrix([\n",
              "[0, 4],\n",
              "[5, 3]]), Matrix([\n",
              "[10, 10],\n",
              "[20, 24]]))"
            ],
            "text/latex": "$\\displaystyle \\left[\\begin{matrix}1 & 2\\\\3 & 4\\end{matrix}\\right] \\left[\\begin{matrix}0 & 4\\\\5 & 3\\end{matrix}\\right] = \\left[\\begin{matrix}10 & 10\\\\20 & 24\\end{matrix}\\right]$"
          },
          "metadata": {}
        },
        {
          "output_type": "display_data",
          "data": {
            "text/plain": [
              "Eq(Matrix([\n",
              "[1, 2],\n",
              "[3, 4]])**2, Matrix([\n",
              "[ 7, 10],\n",
              "[15, 22]]))"
            ],
            "text/latex": "$\\displaystyle \\left(\\left[\\begin{matrix}1 & 2\\\\3 & 4\\end{matrix}\\right]\\right)^{2} = \\left[\\begin{matrix}7 & 10\\\\15 & 22\\end{matrix}\\right]$"
          },
          "metadata": {}
        }
      ],
      "source": [
        "M1 = Matrix([[1,2], [3,4]])\n",
        "M2 = Matrix([[0,4], [5,3]])\n",
        "\n",
        "display(Eq(MatAdd(M1,M2), Add(M1,M2)))\n",
        "display(Eq(MatMul(M1,M2), Mul(M1,M2)))\n",
        "display(Eq(MatPow(M1,2), M1**2))"
      ]
    },
    {
      "cell_type": "code",
      "execution_count": 39,
      "metadata": {
        "id": "ipiMFlZvelpn",
        "outputId": "f8d3bcdb-14c4-403d-b5cd-e672b37aaf15",
        "colab": {
          "base_uri": "https://localhost:8080/",
          "height": 78
        }
      },
      "outputs": [
        {
          "output_type": "execute_result",
          "data": {
            "text/plain": [
              "Matrix([\n",
              "[1, x],\n",
              "[y, 1]])"
            ],
            "text/latex": "$\\displaystyle \\left[\\begin{matrix}1 & x\\\\y & 1\\end{matrix}\\right]$"
          },
          "metadata": {},
          "execution_count": 39
        }
      ],
      "source": [
        "x, y = sym.symbols('x, y')\n",
        "A = sym.Matrix([[1, x], [y, 1]])\n",
        "A"
      ]
    },
    {
      "cell_type": "code",
      "execution_count": 40,
      "metadata": {
        "id": "gZU7U1dDelpo",
        "outputId": "95c9c2f2-cfe9-4301-9100-03125dd0afe7",
        "colab": {
          "base_uri": "https://localhost:8080/",
          "height": 78
        }
      },
      "outputs": [
        {
          "output_type": "execute_result",
          "data": {
            "text/plain": [
              "Matrix([\n",
              "[x*y + 1,     2*x],\n",
              "[    2*y, x*y + 1]])"
            ],
            "text/latex": "$\\displaystyle \\left[\\begin{matrix}x y + 1 & 2 x\\\\2 y & x y + 1\\end{matrix}\\right]$"
          },
          "metadata": {},
          "execution_count": 40
        }
      ],
      "source": [
        "A**2"
      ]
    },
    {
      "cell_type": "markdown",
      "metadata": {
        "id": "U5cWd8bTelpo"
      },
      "source": [
        "# Representación en LaTeX"
      ]
    },
    {
      "cell_type": "markdown",
      "metadata": {
        "id": "-PRgZ3q2elpp"
      },
      "source": [
        "Con `print_latex()` se obtiene la terminología en LaTeX"
      ]
    },
    {
      "cell_type": "code",
      "execution_count": 41,
      "metadata": {
        "id": "c6CjuLxDelpq",
        "outputId": "0e6dcb4c-2cbc-4905-bac2-76794958a764",
        "colab": {
          "base_uri": "https://localhost:8080/"
        }
      },
      "outputs": [
        {
          "output_type": "stream",
          "name": "stdout",
          "text": [
            "\\left[\\begin{matrix}1 & x\\\\y & 1\\end{matrix}\\right]\n"
          ]
        }
      ],
      "source": [
        "print_latex(A)"
      ]
    },
    {
      "cell_type": "code",
      "execution_count": 42,
      "metadata": {
        "id": "Dhji7DEnelpr",
        "outputId": "d4da09ba-c3a9-4def-c2ce-8072aba48b68",
        "colab": {
          "base_uri": "https://localhost:8080/"
        }
      },
      "outputs": [
        {
          "output_type": "stream",
          "name": "stdout",
          "text": [
            "\\left[\\begin{matrix}1 & 2\\\\3 & 4\\end{matrix}\\right]\n"
          ]
        }
      ],
      "source": [
        "print_latex(M1)"
      ]
    },
    {
      "cell_type": "markdown",
      "metadata": {
        "id": "ZbmYTis8elpt"
      },
      "source": [
        "# Gráficas: `plot()`"
      ]
    },
    {
      "cell_type": "code",
      "execution_count": 43,
      "metadata": {
        "id": "Oj4EX_sPelpu",
        "outputId": "7d16fdcd-f13b-4687-85a0-75753f7b7f91",
        "colab": {
          "base_uri": "https://localhost:8080/",
          "height": 335
        }
      },
      "outputs": [
        {
          "output_type": "display_data",
          "data": {
            "text/plain": [
              "<Figure size 432x288 with 1 Axes>"
            ],
            "image/png": "[encoded data removed]"
          },
          "metadata": {
            "needs_background": "light"
          }
        },
        {
          "output_type": "execute_result",
          "data": {
            "text/plain": [
              "<sympy.plotting.plot.Plot at 0x7f1c88638760>"
            ]
          },
          "metadata": {},
          "execution_count": 43
        }
      ],
      "source": [
        "plot(x)"
      ]
    },
    {
      "cell_type": "code",
      "execution_count": 44,
      "metadata": {
        "id": "elLA8PfAelpv",
        "outputId": "b69f3645-b2fc-4a6c-d9d2-1b3a8f012de5",
        "colab": {
          "base_uri": "https://localhost:8080/",
          "height": 332
        }
      },
      "outputs": [
        {
          "output_type": "display_data",
          "data": {
            "text/plain": [
              "<Figure size 432x288 with 1 Axes>"
            ],
            "image/png": "[encoded data removed]"
          },
          "metadata": {
            "needs_background": "light"
          }
        },
        {
          "output_type": "execute_result",
          "data": {
            "text/plain": [
              "<sympy.plotting.plot.Plot at 0x7f1c88520130>"
            ]
          },
          "metadata": {},
          "execution_count": 44
        }
      ],
      "source": [
        "plot(x**2, x, line_color=\"red\")"
      ]
    },
    {
      "cell_type": "code",
      "execution_count": 45,
      "metadata": {
        "id": "hRPEzc_Melpx",
        "outputId": "e31612a8-5901-45ee-eb92-b704509ab569",
        "colab": {
          "base_uri": "https://localhost:8080/",
          "height": 344
        }
      },
      "outputs": [
        {
          "output_type": "display_data",
          "data": {
            "text/plain": [
              "<Figure size 432x288 with 1 Axes>"
            ],
            "image/png": "[encoded data removed]"
          },
          "metadata": {
            "needs_background": "light"
          }
        },
        {
          "output_type": "execute_result",
          "data": {
            "text/plain": [
              "<sympy.plotting.plot.Plot at 0x7f1c8843d3a0>"
            ]
          },
          "metadata": {},
          "execution_count": 45
        }
      ],
      "source": [
        "from sympy.plotting import plot3d\n",
        "plot3d(1/(1+ exp(1)**(-x)))"
      ]
    },
    {
      "cell_type": "code",
      "execution_count": 46,
      "metadata": {
        "id": "wXMiGIqKelpy",
        "outputId": "67f16dfe-b2ec-4240-d52f-8cf96f72c5f2",
        "colab": {
          "base_uri": "https://localhost:8080/",
          "height": 335
        }
      },
      "outputs": [
        {
          "output_type": "display_data",
          "data": {
            "text/plain": [
              "<Figure size 432x288 with 1 Axes>"
            ],
            "image/png": "[encoded data removed]"
          },
          "metadata": {
            "needs_background": "light"
          }
        },
        {
          "output_type": "execute_result",
          "data": {
            "text/plain": [
              "<sympy.plotting.plot.Plot at 0x7f1c88556dc0>"
            ]
          },
          "metadata": {},
          "execution_count": 46
        }
      ],
      "source": [
        "plot_implicit(y > x**2 + x*2 + 1)"
      ]
    },
    {
      "cell_type": "markdown",
      "metadata": {
        "id": "wu6c706Welpz"
      },
      "source": [
        "## Cálculo otra vez"
      ]
    },
    {
      "cell_type": "code",
      "execution_count": 47,
      "metadata": {
        "id": "H6wL6Ligelpz"
      },
      "outputs": [],
      "source": [
        "from sympy import *\n",
        "x, y, z, t = symbols('x y z t')\n",
        "k, m, n = symbols('k m n', integer=True)\n",
        "f, g, h = symbols('f g h', cls=Function)"
      ]
    },
    {
      "cell_type": "code",
      "execution_count": 48,
      "metadata": {
        "id": "sH2ocvlcelp0",
        "outputId": "11f59f45-9aa5-41ac-ec29-9f23a483ca3a",
        "colab": {
          "base_uri": "https://localhost:8080/",
          "height": 59
        }
      },
      "outputs": [
        {
          "output_type": "execute_result",
          "data": {
            "text/plain": [
              "-sin(x)"
            ],
            "text/latex": "$\\displaystyle - \\sin{\\left(x \\right)}$"
          },
          "metadata": {},
          "execution_count": 48
        }
      ],
      "source": [
        "diff(cos(x), x)"
      ]
    },
    {
      "cell_type": "code",
      "execution_count": 49,
      "metadata": {
        "id": "BQm_wnW-elp1",
        "outputId": "bc38b787-1d0d-4e46-bda0-9dad2d380180",
        "colab": {
          "base_uri": "https://localhost:8080/",
          "height": 59
        }
      },
      "outputs": [
        {
          "output_type": "execute_result",
          "data": {
            "text/plain": [
              "24*x"
            ],
            "text/latex": "$\\displaystyle 24 x$"
          },
          "metadata": {},
          "execution_count": 49
        }
      ],
      "source": [
        "diff(x**4, x, x, x)"
      ]
    },
    {
      "cell_type": "code",
      "execution_count": 50,
      "metadata": {
        "id": "vagX1N-Telp2",
        "outputId": "c9bca86b-ad53-484e-c6ad-f958ef4eb9ab",
        "colab": {
          "base_uri": "https://localhost:8080/",
          "height": 59
        }
      },
      "outputs": [
        {
          "output_type": "execute_result",
          "data": {
            "text/plain": [
              "24*x"
            ],
            "text/latex": "$\\displaystyle 24 x$"
          },
          "metadata": {},
          "execution_count": 50
        }
      ],
      "source": [
        "diff(x**4, x, 3)"
      ]
    },
    {
      "cell_type": "code",
      "execution_count": 51,
      "metadata": {
        "id": "lQUZUxvAelp3",
        "outputId": "ca3babf6-161d-4a2b-df89-e99364a8259c",
        "colab": {
          "base_uri": "https://localhost:8080/",
          "height": 59
        }
      },
      "outputs": [
        {
          "output_type": "execute_result",
          "data": {
            "text/plain": [
              "x**3*y**2*(x**3*y**3*z**3 + 14*x**2*y**2*z**2 + 52*x*y*z + 48)*exp(x*y*z)"
            ],
            "text/latex": "$\\displaystyle x^{3} y^{2} \\left(x^{3} y^{3} z^{3} + 14 x^{2} y^{2} z^{2} + 52 x y z + 48\\right) e^{x y z}$"
          },
          "metadata": {},
          "execution_count": 51
        }
      ],
      "source": [
        "f = exp(x*y*z)\n",
        "diff(f, x, y, y, z, z, z, z)"
      ]
    },
    {
      "cell_type": "code",
      "execution_count": 52,
      "metadata": {
        "id": "ZaFQKum9elp4",
        "outputId": "19b20b07-36f7-4414-afdc-5b6f2fa3b5a7",
        "colab": {
          "base_uri": "https://localhost:8080/",
          "height": 77
        }
      },
      "outputs": [
        {
          "output_type": "execute_result",
          "data": {
            "text/plain": [
              "Derivative(exp(x*y*z), x, (y, 2), (z, 4))"
            ],
            "text/latex": "$\\displaystyle \\frac{\\partial^{7}}{\\partial z^{4}\\partial y^{2}\\partial x} e^{x y z}$"
          },
          "metadata": {},
          "execution_count": 52
        }
      ],
      "source": [
        "derivada = Derivative(f, x, y, y, z, 4)\n",
        "derivada"
      ]
    },
    {
      "cell_type": "code",
      "execution_count": 53,
      "metadata": {
        "id": "x3HBn0E7elp5",
        "outputId": "584d087c-75bb-4692-a220-bb2f0ec49fc5",
        "colab": {
          "base_uri": "https://localhost:8080/"
        }
      },
      "outputs": [
        {
          "output_type": "stream",
          "name": "stdout",
          "text": [
            "\\frac{\\partial^{7}}{\\partial z^{4}\\partial y^{2}\\partial x} e^{x y z}\n"
          ]
        }
      ],
      "source": [
        "print_latex(derivada)"
      ]
    },
    {
      "cell_type": "code",
      "execution_count": 54,
      "metadata": {
        "id": "P3tgIVvielp8",
        "outputId": "8b8abfbc-b239-4371-da47-e1c26e77ef79",
        "colab": {
          "base_uri": "https://localhost:8080/",
          "height": 59
        }
      },
      "outputs": [
        {
          "output_type": "execute_result",
          "data": {
            "text/plain": [
              "x**3*y**2*(x**3*y**3*z**3 + 14*x**2*y**2*z**2 + 52*x*y*z + 48)*exp(x*y*z)"
            ],
            "text/latex": "$\\displaystyle x^{3} y^{2} \\left(x^{3} y^{3} z^{3} + 14 x^{2} y^{2} z^{2} + 52 x y z + 48\\right) e^{x y z}$"
          },
          "metadata": {},
          "execution_count": 54
        }
      ],
      "source": [
        "derivada.doit()"
      ]
    },
    {
      "cell_type": "code",
      "execution_count": 55,
      "metadata": {
        "id": "yzWgRjghelp9",
        "outputId": "642a79d1-4b96-4800-8612-dbc149774ed1",
        "colab": {
          "base_uri": "https://localhost:8080/"
        }
      },
      "outputs": [
        {
          "output_type": "stream",
          "name": "stdout",
          "text": [
            "dderivada de sin(x)*e ^ x :  exp(x)*sin(x) + exp(x)*cos(x)\n",
            "la integral es :  exp(x)*sin(x)\n",
            "la integral es :  sqrt(2)*sqrt(pi)/2\n",
            "el límite es :  1\n",
            "rraíces :  [-sqrt(2), sqrt(2)]\n"
          ]
        }
      ],
      "source": [
        "from sympy import *\n",
        " \n",
        "x = Symbol('x')\n",
        " \n",
        "ans1 = diff(sin(x)*exp(x), x)\n",
        "print(\"dderivada de sin(x)*e ^ x : \", ans1)\n",
        " \n",
        "\n",
        "ans2 = integrate(exp(x)*sin(x) + exp(x)*cos(x), x)\n",
        "print(\"la integral es : \", ans2)\n",
        " \n",
        "ans3 = integrate(sin(x**2), (x, -oo, oo))\n",
        "print(\"la integral es : \", ans3)\n",
        " \n",
        "\n",
        "ans4 = limit(sin(x)/x, x, 0)\n",
        "print(\"el límite es : \", ans4)\n",
        " \n",
        "\n",
        "ans5 = solve(x**2 - 2, x)\n",
        "print(\"rraíces : \", ans5)"
      ]
    },
    {
      "cell_type": "code",
      "execution_count": 56,
      "metadata": {
        "id": "6JEj-jtHelp-",
        "outputId": "1bd5d37f-47dd-409c-8a38-8e143c17dc32",
        "colab": {
          "base_uri": "https://localhost:8080/",
          "height": 59
        }
      },
      "outputs": [
        {
          "output_type": "execute_result",
          "data": {
            "text/plain": [
              "pi"
            ],
            "text/latex": "$\\displaystyle \\pi$"
          },
          "metadata": {},
          "execution_count": 56
        }
      ],
      "source": [
        "integrate(exp(-x**2 - y**2), (x, -oo, oo), (y,-oo,oo))"
      ]
    },
    {
      "cell_type": "code",
      "execution_count": 57,
      "metadata": {
        "id": "6q7PRXTYelp_",
        "outputId": "3b1281f7-1fd5-44b8-a81a-e5d346f4b631",
        "colab": {
          "base_uri": "https://localhost:8080/",
          "height": 74
        }
      },
      "outputs": [
        {
          "output_type": "execute_result",
          "data": {
            "text/plain": [
              "1 - x**2/2 + x**4/24 + O(x**6)"
            ],
            "text/latex": "$\\displaystyle 1 - \\frac{x^{2}}{2} + \\frac{x^{4}}{24} + O\\left(x^{6}\\right)$"
          },
          "metadata": {},
          "execution_count": 57
        }
      ],
      "source": [
        "import sympy as sym\n",
        "\n",
        "sym.series(sym.cos(x), x)"
      ]
    },
    {
      "cell_type": "code",
      "execution_count": 58,
      "metadata": {
        "id": "E5reKhayelqA",
        "outputId": "5e505cd9-3690-4b22-e9b7-8c0272b489f8",
        "colab": {
          "base_uri": "https://localhost:8080/",
          "height": 74
        }
      },
      "outputs": [
        {
          "output_type": "execute_result",
          "data": {
            "text/plain": [
              "1 + x + x**2/2 + O(x**4)"
            ],
            "text/latex": "$\\displaystyle 1 + x + \\frac{x^{2}}{2} + O\\left(x^{4}\\right)$"
          },
          "metadata": {},
          "execution_count": 58
        }
      ],
      "source": [
        "f = exp(sin(x))\n",
        "f.series(x, 0, 4)"
      ]
    },
    {
      "cell_type": "markdown",
      "metadata": {
        "id": "MlD_9Fi-elqC"
      },
      "source": [
        "# Ecuaciones diferenciales"
      ]
    },
    {
      "cell_type": "code",
      "execution_count": 59,
      "metadata": {
        "id": "R_PX4muAelqD"
      },
      "outputs": [],
      "source": [
        "f, g = sym.symbols('f g', cls=sym.Function)"
      ]
    },
    {
      "cell_type": "code",
      "execution_count": 60,
      "metadata": {
        "id": "2gVaSzePelqE",
        "outputId": "9cc98789-76f7-4d3c-c725-1bd447f82b3b",
        "colab": {
          "base_uri": "https://localhost:8080/",
          "height": 74
        }
      },
      "outputs": [
        {
          "output_type": "execute_result",
          "data": {
            "text/plain": [
              "f(x) + Derivative(f(x), (x, 2))"
            ],
            "text/latex": "$\\displaystyle f{\\left(x \\right)} + \\frac{d^{2}}{d x^{2}} f{\\left(x \\right)}$"
          },
          "metadata": {},
          "execution_count": 60
        }
      ],
      "source": [
        "f(x).diff(x, x) + f(x)"
      ]
    },
    {
      "cell_type": "code",
      "execution_count": 61,
      "metadata": {
        "id": "fLp0hbn3elqE",
        "outputId": "091bc007-bbcf-4a4c-8a4d-d6b95d166653",
        "colab": {
          "base_uri": "https://localhost:8080/",
          "height": 59
        }
      },
      "outputs": [
        {
          "output_type": "execute_result",
          "data": {
            "text/plain": [
              "Eq(f(x), C1*sin(x) + C2*cos(x))"
            ],
            "text/latex": "$\\displaystyle f{\\left(x \\right)} = C_{1} \\sin{\\left(x \\right)} + C_{2} \\cos{\\left(x \\right)}$"
          },
          "metadata": {},
          "execution_count": 61
        }
      ],
      "source": [
        "sym.dsolve(f(x).diff(x, x) + f(x), f(x))"
      ]
    },
    {
      "cell_type": "markdown",
      "metadata": {
        "id": "Syi8IHPLelqH"
      },
      "source": [
        "# Números primos"
      ]
    },
    {
      "cell_type": "code",
      "execution_count": 62,
      "metadata": {
        "id": "mMR8M-IFelqI",
        "outputId": "d846a53b-f790-4418-f557-44d24a6ce9e3",
        "colab": {
          "base_uri": "https://localhost:8080/"
        }
      },
      "outputs": [
        {
          "output_type": "stream",
          "name": "stdout",
          "text": [
            "True\n",
            "[2, 3, 5, 7, 11, 13, 17, 19, 23, 29, 31, 37, 41, 43, 47, 53, 59, 61, 67, 71, 73, 79, 83, 89, 97]\n"
          ]
        }
      ],
      "source": [
        "import sympy\n",
        " \n",
        "# Output : True\n",
        "print(sympy.isprime(5))                       \n",
        " \n",
        "print(list(sympy.primerange(0, 100)))   "
      ]
    },
    {
      "cell_type": "code",
      "execution_count": 63,
      "metadata": {
        "id": "GfjB7y_welqI",
        "outputId": "a331cba3-4a9b-4ff3-9a66-06039fb04fa3",
        "colab": {
          "base_uri": "https://localhost:8080/"
        }
      },
      "outputs": [
        {
          "output_type": "stream",
          "name": "stdout",
          "text": [
            "41\n",
            "71\n",
            "5\n",
            "47\n",
            "53\n"
          ]
        }
      ],
      "source": [
        "print(sympy.randprime(0, 100))  \n",
        "print(sympy.randprime(0, 100)) \n",
        "print(sympy.prime(3))          \n",
        "print(sympy.prevprime(50))     \n",
        "print(sympy.nextprime(50))"
      ]
    },
    {
      "cell_type": "markdown",
      "metadata": {
        "id": "fzeP_iAVelqJ"
      },
      "source": [
        "Referencia: https://stackoverflow.com/questions/13326673/is-there-a-python-library-to-list-primes"
      ]
    }
  ],
  "metadata": {
    "kernelspec": {
      "display_name": "Python 3",
      "language": "python",
      "name": "python3"
    },
    "language_info": {
      "codemirror_mode": {
        "name": "ipython",
        "version": 3
      },
      "file_extension": ".py",
      "mimetype": "text/x-python",
      "name": "python",
      "nbconvert_exporter": "python",
      "pygments_lexer": "ipython3",
      "version": "3.7.6"
    },
    "colab": {
      "provenance": []
    }
  },
  "nbformat": 4,
  "nbformat_minor": 0
}