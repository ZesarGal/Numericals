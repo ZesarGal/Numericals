{
  "cells": [
    {
      "cell_type": "markdown",
      "metadata": {
        "deletable": false,
        "editable": false,
        "nbgrader": {
          "cell_type": "markdown",
          "checksum": "2f26d2b9ed818bb3addbcea73fdaa50a",
          "grade": false,
          "grade_id": "title",
          "locked": true,
          "schema_version": 3,
          "solution": false,
          "task": false
        },
        "id": "LnhH7xvOO94C"
      },
      "source": [
        "## Interpolación de Newton en forma de diferencias divididas.\n",
        "---\n"
      ]
    },
    {
      "cell_type": "code",
      "execution_count": 1,
      "metadata": {
        "deletable": false,
        "editable": false,
        "nbgrader": {
          "cell_type": "code",
          "checksum": "61b07e7eb90c9dd5d430e8e51f42846e",
          "grade": false,
          "grade_id": "import",
          "locked": true,
          "schema_version": 3,
          "solution": false,
          "task": false
        },
        "id": "BaUITL0XO94F"
      },
      "outputs": [],
      "source": [
        "import numpy as np\n",
        "import matplotlib.pyplot as plt"
      ]
    },
    {
      "cell_type": "markdown",
      "metadata": {
        "deletable": false,
        "editable": false,
        "nbgrader": {
          "cell_type": "markdown",
          "checksum": "9afa291daaff9e961e951d844af762fe",
          "grade": false,
          "grade_id": "intro2",
          "locked": true,
          "schema_version": 3,
          "solution": false,
          "task": false
        },
        "id": "12MN0HDlO94G"
      },
      "source": [
        "### Método de Newton:\n",
        "\n",
        "\n",
        "$$p_n(x) = \\sum_{k=0}^{n} a_kn_k(x),$$\n",
        "en dónde la base es:\n",
        "$$n_k(x) = \\prod_{j=0}^{k-1}(x-x_j),$$\n",
        "$$ n_0(x)=1,$$\n",
        "\n",
        "y los coeficientes: $$a_k = f[x_0, x_1, ..., x_k].$$\n",
        "\n",
        "Obtenemos:\n",
        "\n",
        "$$p(x) = f [x_0] + (x-x_0) f[x_0,x_1] + (x-x_0) (x-x_1) f[x_0,x_1,x_2] + \\dots + (x-x_0) (x-x_1) \\dots (x-x_{k-1}) f[x_0, x_1, \\dots, x_k]$$\n",
        "\n"
      ]
    },
    {
      "cell_type": "code",
      "execution_count": 2,
      "metadata": {
        "deletable": false,
        "nbgrader": {
          "cell_type": "code",
          "checksum": "8364c82fa61ab1ef2127023f2abcab06",
          "grade": false,
          "grade_id": "part01_ans",
          "locked": false,
          "schema_version": 3,
          "solution": true,
          "task": false
        },
        "id": "3eVeH32NO94H"
      },
      "outputs": [],
      "source": [
        "class Diferencias_divididas_Newton:\n",
        "  \n",
        "    def __init__(self, diferencias):\n",
        "        self.diferencias = diferencias\n",
        "\n",
        "    def __call__(self, x):\n",
        "        \n",
        "        res = np.zeros(len(x)) \n",
        "        n = len(data_x) - 1 \n",
        "        res = self.diferencias[n]\n",
        "        for k in range(1,n+1):\n",
        "            res = self.diferencias[n-k] + (x -data_x[n-k])*res\n",
        "        #----------------------------------------------\n",
        "        \n",
        "        return res\n"
      ]
    },
    {
      "cell_type": "code",
      "execution_count": 3,
      "metadata": {
        "deletable": false,
        "nbgrader": {
          "cell_type": "code",
          "checksum": "2073daac91bee5df1db0c82e4557f1da",
          "grade": false,
          "grade_id": "part02_ans",
          "locked": false,
          "schema_version": 3,
          "solution": true,
          "task": false
        },
        "id": "uN9fjYqdO94J"
      },
      "outputs": [],
      "source": [
        "diferencia = lambda y2, y1, x2, x1: (y2-y1)/(x2-x1)\n",
        "\n",
        "def calc_dif_div(x,y):\n",
        "    assert(len(x)==len(y))\n",
        "    b = []  \n",
        "    m = len(x)\n",
        "    x = np.copy(x)\n",
        "    b = np.copy(y)\n",
        "    for k in range(1,m):\n",
        "        b[k:m] = (b[k:m] - b[k-1])/(x[k:m] - x[k-1])\n",
        "    #----------------------------------------------\n",
        "    return b"
      ]
    },
    {
      "cell_type": "markdown",
      "source": [
        "### Ejemplo."
      ],
      "metadata": {
        "id": "-Jb5kMlwGzra"
      }
    },
    {
      "cell_type": "code",
      "source": [
        "data_x = [-3.,-2.,-1.,0.,1.,3.,4.]\n",
        "data_y = [-60.,-80.,6.,1.,45.,30.,16.]\n",
        "\n",
        "test = calc_dif_div(data_x, data_y)\n",
        "\n",
        "test"
      ],
      "metadata": {
        "colab": {
          "base_uri": "https://localhost:8080/"
        },
        "id": "YgM5t_iEHAe8",
        "outputId": "3a06b252-11d0-462b-9d58-55297bc9a745"
      },
      "execution_count": 4,
      "outputs": [
        {
          "output_type": "execute_result",
          "data": {
            "text/plain": [
              "array([-60.        , -20.        ,  53.        , -32.83333333,\n",
              "        14.04166667,  -3.46527778,   0.72321429])"
            ]
          },
          "metadata": {},
          "execution_count": 4
        }
      ]
    },
    {
      "cell_type": "code",
      "execution_count": 5,
      "metadata": {
        "deletable": false,
        "editable": false,
        "nbgrader": {
          "cell_type": "code",
          "checksum": "c41b2a212fa89cd94a904a88f3c79b3f",
          "grade": true,
          "grade_id": "part01_test",
          "locked": true,
          "points": 10,
          "schema_version": 3,
          "solution": false,
          "task": false
        },
        "id": "7uSjgzBpO94O",
        "outputId": "59317267-d6b6-4246-9433-42d21a00c74a",
        "colab": {
          "base_uri": "https://localhost:8080/",
          "height": 451
        }
      },
      "outputs": [
        {
          "output_type": "display_data",
          "data": {
            "text/plain": [
              "<Figure size 640x480 with 1 Axes>"
            ],
            "image/png": "[encoded data removed]"
          },
          "metadata": {}
        }
      ],
      "source": [
        "data_x = np.array([-3.,-2.,-1.,0.,1.,3.,4.])\n",
        "data_y = np.array([-60.,-80.,6.,1.,45.,30.,16.])\n",
        "diferencias = calc_dif_div(list(data_x), list(data_y))\n",
        "p = Diferencias_divididas_Newton(list(diferencias))\n",
        "test_x = np.linspace(-3, 4, 50, endpoint=True)\n",
        "test_y = p(test_x)\n",
        "\n",
        "\n",
        "plt.plot(test_x, test_y)\n",
        "plt.plot(data_x, data_y, 'ro')\n",
        "plt.show()\n"
      ]
    },
    {
      "cell_type": "code",
      "execution_count": 5,
      "metadata": {
        "id": "5eF3FauMO94P"
      },
      "outputs": [],
      "source": []
    },
    {
      "cell_type": "code",
      "execution_count": 5,
      "metadata": {
        "id": "Ad8_BF0GO94Q"
      },
      "outputs": [],
      "source": []
    },
    {
      "cell_type": "code",
      "execution_count": 5,
      "metadata": {
        "id": "1088n7zyO94R"
      },
      "outputs": [],
      "source": []
    }
  ],
  "metadata": {
    "kernelspec": {
      "display_name": "Python 3",
      "language": "python",
      "name": "python3"
    },
    "language_info": {
      "codemirror_mode": {
        "name": "ipython",
        "version": 3
      },
      "file_extension": ".py",
      "mimetype": "text/x-python",
      "name": "python",
      "nbconvert_exporter": "python",
      "pygments_lexer": "ipython3",
      "version": "3.7.3"
    },
    "colab": {
      "provenance": []
    }
  },
  "nbformat": 4,
  "nbformat_minor": 0
}